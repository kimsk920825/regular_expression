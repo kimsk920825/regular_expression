{
 "cells": [
  {
   "cell_type": "markdown",
   "metadata": {},
   "source": [
    "파이썬에서 정규 표현식을 지원하는 모듈: re  \n",
    "`import re`      \n",
    "`p = re.compile('ab*')`와 같이 패턴 객체를 만든 후 사용 할 수 있는 4가지 방법: \n",
    "### Match, Search, Findall, Finditer   "
   ]
  },
  {
   "cell_type": "code",
   "execution_count": 1,
   "metadata": {},
   "outputs": [],
   "source": [
    "import re "
   ]
  },
  {
   "cell_type": "code",
   "execution_count": 2,
   "metadata": {},
   "outputs": [
    {
     "name": "stdout",
     "output_type": "stream",
     "text": [
      "<re.Match object; span=(0, 6), match='python'>\n"
     ]
    }
   ],
   "source": [
    "p= re.compile('[a-z]+')#문자열 객체 안의 단어가 1번이상 반복되는 표현을 찾는 식.\n",
    "m = p.match('python')#검사하고자 하는 글을 넣어 줌.\n",
    "print(m)"
   ]
  },
  {
   "cell_type": "code",
   "execution_count": 4,
   "metadata": {},
   "outputs": [
    {
     "name": "stdout",
     "output_type": "stream",
     "text": [
      "<re.Match object; span=(2, 8), match='python'>\n"
     ]
    }
   ],
   "source": [
    "m = p.search('3 python')\n",
    "print(m)"
   ]
  },
  {
   "cell_type": "code",
   "execution_count": 5,
   "metadata": {},
   "outputs": [
    {
     "name": "stdout",
     "output_type": "stream",
     "text": [
      "['life', 'is', 'too', 'short']\n"
     ]
    }
   ],
   "source": [
    "m = p.findall('life is too short')\n",
    "print(m) #일치하는 string을 리스트로 담아서 출력"
   ]
  },
  {
   "cell_type": "code",
   "execution_count": 6,
   "metadata": {},
   "outputs": [
    {
     "name": "stdout",
     "output_type": "stream",
     "text": [
      "<callable_iterator object at 0x1060c1a50>\n",
      "<re.Match object; span=(0, 4), match='life'>\n",
      "<re.Match object; span=(5, 7), match='is'>\n",
      "<re.Match object; span=(8, 11), match='too'>\n",
      "<re.Match object; span=(12, 17), match='short'>\n"
     ]
    }
   ],
   "source": [
    "m = p.finditer('life is too short')\n",
    "print(m) #life is too short를 mathcing하는 객체로 만들어서 반환 \n",
    "for r in m:\n",
    "    print(r)"
   ]
  },
  {
   "cell_type": "markdown",
   "metadata": {},
   "source": [
    "group() = 매치된 문자열을 리턴한다     \n",
    "start() = 매치된 문자열의 시작 위치를 리턴한다.    \n",
    "end() = 매치된 문자열의 끝 위치를 리턴한다.     \n",
    "span() = 매치된 문자열의(시작,끝)에 해당되는 튜플을 리턴한다.    "
   ]
  },
  {
   "cell_type": "code",
   "execution_count": 8,
   "metadata": {},
   "outputs": [
    {
     "name": "stdout",
     "output_type": "stream",
     "text": [
      "python\n",
      "0\n",
      "6\n",
      "(0, 6)\n"
     ]
    }
   ],
   "source": [
    "m = p.match('python')\n",
    "print(m.group())\n",
    "print(m.start())\n",
    "print(m.end())\n",
    "print(m.span())"
   ]
  },
  {
   "cell_type": "markdown",
   "metadata": {},
   "source": [
    "### 1-1컴파일 옵션"
   ]
  },
  {
   "cell_type": "code",
   "execution_count": 9,
   "metadata": {},
   "outputs": [
    {
     "name": "stdout",
     "output_type": "stream",
     "text": [
      "<re.Match object; span=(0, 3), match='a\\nb'>\n"
     ]
    }
   ],
   "source": [
    "import re\n",
    "# p = re.compile('a.b')\n",
    "# m = p.match('a\\nb')\n",
    "# print(m) #.은 줄바꿈 문자를 포함하지 않는다. \n",
    "\n",
    "p = re.compile('a.b', re.DOTALL)\n",
    "m = p.match('a\\nb')\n",
    "print(m) #re.DOTALL옵션은 문자열 바꿈도 객체로 만들 수 있게 한다. "
   ]
  },
  {
   "cell_type": "code",
   "execution_count": 10,
   "metadata": {},
   "outputs": [
    {
     "name": "stdout",
     "output_type": "stream",
     "text": [
      "<re.Match object; span=(0, 1), match='p'>\n",
      "None\n",
      "None\n"
     ]
    }
   ],
   "source": [
    "import re\n",
    "p = re.compile('[a-z]')\n",
    "print(p.match('python'))\n",
    "print(p.match('Python'))\n",
    "print(p.match('PYTHON'))\n",
    "#대문자로 시작하는 문자는 매칭이 안된다"
   ]
  },
  {
   "cell_type": "code",
   "execution_count": 11,
   "metadata": {},
   "outputs": [
    {
     "name": "stdout",
     "output_type": "stream",
     "text": [
      "<re.Match object; span=(0, 1), match='p'>\n",
      "<re.Match object; span=(0, 1), match='P'>\n",
      "<re.Match object; span=(0, 1), match='P'>\n"
     ]
    }
   ],
   "source": [
    "#IGNORCASE, I\n",
    "import re\n",
    "p = re.compile('[a-z]', re.I)\n",
    "print(p.match('python'))\n",
    "print(p.match('Python'))\n",
    "print(p.match('PYTHON'))\n",
    "#대소문자를 다 무시하고 매칭을 시켜준다. "
   ]
  },
  {
   "cell_type": "code",
   "execution_count": 13,
   "metadata": {},
   "outputs": [
    {
     "name": "stdout",
     "output_type": "stream",
     "text": [
      "['python one']\n"
     ]
    }
   ],
   "source": [
    "#MULTILINE, M\n",
    "import re\n",
    "p = re.compile('^python\\s\\w+') #^표시는 '맨 처음'이라는 뜻이다. \\s는 공백, \\w는 알파벳, 숫자, _중\n",
    "#해석: python이라는 단어는 맨처음에 있어야 하고, python다음에는 \\s공백이 있어야하며 공백 뒤에는 단어가 여러개 있어야 한다. \n",
    "data = \"\"\"python one\n",
    "life is too short\n",
    "python two\n",
    "you need python\n",
    "python three\n",
    "\"\"\"\n",
    "print(p.findall(data))\n",
    "#findall은 리스트로 반환\n",
    "#첫번째 감지되는 조건만 반환"
   ]
  },
  {
   "cell_type": "code",
   "execution_count": 14,
   "metadata": {},
   "outputs": [
    {
     "name": "stdout",
     "output_type": "stream",
     "text": [
      "['python one', 'python two', 'python three']\n"
     ]
    }
   ],
   "source": [
    "#MULTILINE, M\n",
    "import re\n",
    "p = re.compile('^python\\s\\w+', re.M) #^표시는 '맨 처음'이라는 뜻이다. \\s는 공백, \\w는 알파벳, 숫자, _중\n",
    "#해석: python이라는 단어는 맨처음에 있어야 하고, python다음에는 \\s공백이 있어야하며 공백 뒤에는 단어가 여러개 있어야 한다. \n",
    "data = \"\"\"python one\n",
    "life is too short\n",
    "python two\n",
    "you need python\n",
    "python three\n",
    "\"\"\"\n",
    "print(p.findall(data))\n",
    "#findall은 리스트로 반환\n",
    "#첫번째 감지되는 조건만 반환"
   ]
  },
  {
   "cell_type": "code",
   "execution_count": 15,
   "metadata": {},
   "outputs": [],
   "source": [
    "#VERBOSE, X: 긴 정규표현을 나눠서 쓸 수 있게 해주는 옵션\n",
    "import re\n",
    "charref = re.compile(r'&[#](0[0-7]+|[0-9]+|x[0-9a-fA-F]+);')\n",
    "\n",
    "charref = re.compile(r\"\"\"\n",
    "&[#] #Start of a numeric entity reference\n",
    "(\n",
    "    0[0-7]+\n",
    "    | [0-9]+ #Decimal form\n",
    "    | x[0-9a-fA-F]+ #Hexadeciaml form\n",
    ")\n",
    ";\n",
    "\"\"\", re.VERBOSE)"
   ]
  },
  {
   "cell_type": "markdown",
   "metadata": {},
   "source": [
    "### 1-2 정규 표현식 시작하기\n",
    "백슬래시 문제"
   ]
  },
  {
   "cell_type": "code",
   "execution_count": 18,
   "metadata": {},
   "outputs": [],
   "source": [
    "p=re.compile('\\section')#\\s=공백 ection을 문자열에서 찾게됨. 그걸 방지하기 위해서 \\를 두개 연달아 붙여야함. 그러나 파이썬에서는 \\\\를 한개의 \\로 인식 그래서 \\\\\\\\와 같이 4개를 붙혀야 함.\n",
    "p=re.compile('\\\\section')\n",
    "p=re.compile('\\\\\\\\section')\n",
    "#위와같이 \\\\\\\\를 하면 너무 길기 때문에 row_string을 써줌. \n",
    "p=re.compile(r'//section')"
   ]
  },
  {
   "cell_type": "markdown",
   "metadata": {},
   "source": [
    "### 1-3 강력한 정규 표현식"
   ]
  },
  {
   "cell_type": "code",
   "execution_count": 19,
   "metadata": {},
   "outputs": [
    {
     "name": "stdout",
     "output_type": "stream",
     "text": [
      "<re.Match object; span=(0, 4), match='Crow'>\n"
     ]
    }
   ],
   "source": [
    "#메타문자 |\n",
    "import re \n",
    "p = re.compile('Crow|Servo')#crow 또는 Servo라는 뜻이다. \n",
    "m = p.match('CrowHello') #앞 문자 Crow가 매칭되기때문에 출력 가능 \n",
    "print(m)"
   ]
  },
  {
   "cell_type": "code",
   "execution_count": 21,
   "metadata": {},
   "outputs": [
    {
     "name": "stdout",
     "output_type": "stream",
     "text": [
      "<re.Match object; span=(0, 4), match='Life'>\n",
      "None\n"
     ]
    }
   ],
   "source": [
    "#메타문자 ^ #문장 시작이 ^Life로 시작하는지 확인해보기\n",
    "import re\n",
    "print(re.search('^Life', 'Life is too short'))\n",
    "print(re.search('^Life','My Life'))"
   ]
  },
  {
   "cell_type": "code",
   "execution_count": 24,
   "metadata": {},
   "outputs": [
    {
     "name": "stdout",
     "output_type": "stream",
     "text": [
      "<re.Match object; span=(12, 17), match='short'>\n",
      "None\n"
     ]
    }
   ],
   "source": [
    "#메타문자 $표시는 맨 끝을 의미한다\n",
    "import re\n",
    "print(re.search('short$','Life is too short'))\n",
    "print(re.search('short$','Life is too short, you need python'))"
   ]
  },
  {
   "cell_type": "code",
   "execution_count": 25,
   "metadata": {},
   "outputs": [
    {
     "name": "stdout",
     "output_type": "stream",
     "text": [
      "<re.Match object; span=(3, 8), match='class'>\n",
      "None\n",
      "None\n"
     ]
    }
   ],
   "source": [
    "#메타문자 \\b\n",
    "import re\n",
    "p = re.compile(r'\\bclass\\b') #역슬레시가 들어갔기 때문에 row_string을 써준다. \n",
    "#\\b는 공백을 나타내는 문법이다. \\s와 다른점은 \\b는 콤마까지 공백으로 취급한다. \n",
    "print(p.search('no class at all'))\n",
    "print(p.search('the declassified algorithm'))\n",
    "print(p.search('one subclass is'))"
   ]
  },
  {
   "cell_type": "code",
   "execution_count": 27,
   "metadata": {},
   "outputs": [],
   "source": [
    "### 그룹핑1\n",
    "#(ABC)+\n",
    "import re\n",
    "p=re.compile('ABC+')#이 표현은 C만 반복되는것을 찾는 문법이다."
   ]
  },
  {
   "cell_type": "code",
   "execution_count": 29,
   "metadata": {},
   "outputs": [
    {
     "name": "stdout",
     "output_type": "stream",
     "text": [
      "<re.Match object; span=(0, 9), match='ABCABCABC'>\n",
      "ABCABCABC\n"
     ]
    }
   ],
   "source": [
    "#그룹핑1\n",
    "#(ABC)+\n",
    "import re\n",
    "p=re.compile('(ABC)+')\n",
    "m = p.search('ABCABCABC OK?')\n",
    "print(m)\n",
    "print(m.group())"
   ]
  },
  {
   "cell_type": "code",
   "execution_count": 30,
   "metadata": {},
   "outputs": [
    {
     "name": "stdout",
     "output_type": "stream",
     "text": [
      "park\n"
     ]
    }
   ],
   "source": [
    "#그루핑1\n",
    "import re\n",
    "p = re.compile(r\"(\\w+)\\s+\\d+[-]\\d+[-]\\d+\")\n",
    "m = p.search(\"park 010-2336-6429\")\n",
    "print(m.group(1))\n",
    "               "
   ]
  },
  {
   "cell_type": "code",
   "execution_count": 32,
   "metadata": {},
   "outputs": [
    {
     "name": "stdout",
     "output_type": "stream",
     "text": [
      "the the\n"
     ]
    }
   ],
   "source": [
    "import re\n",
    "p = re.compile(r'(\\b\\w+)\\s+\\1')#(\\b\\w+)에서 찾은 정규식을 \\1한번더 반복하겠다는 뜻.\n",
    "print(p.search('Paris in the the spring').group())"
   ]
  },
  {
   "cell_type": "code",
   "execution_count": 33,
   "metadata": {},
   "outputs": [
    {
     "name": "stdout",
     "output_type": "stream",
     "text": [
      "park\n"
     ]
    }
   ],
   "source": [
    "#그루핑된 문자열에 이름 붙이기 ?P<name>\n",
    "import re \n",
    "p = re.compile(r\"(?P<name>\\w+)\\s+((\\d+)[-]\\d+[-]\\d+)\")\n",
    "m = p.search(\"park 010-1234-1234\")\n",
    "print(m.group(\"name\"))"
   ]
  },
  {
   "cell_type": "code",
   "execution_count": null,
   "metadata": {},
   "outputs": [],
   "source": []
  }
 ],
 "metadata": {
  "kernelspec": {
   "display_name": "Python 3",
   "language": "python",
   "name": "python3"
  },
  "language_info": {
   "codemirror_mode": {
    "name": "ipython",
    "version": 3
   },
   "file_extension": ".py",
   "mimetype": "text/x-python",
   "name": "python",
   "nbconvert_exporter": "python",
   "pygments_lexer": "ipython3",
   "version": "3.7.6"
  }
 },
 "nbformat": 4,
 "nbformat_minor": 4
}
